{
 "cells": [
  {
   "cell_type": "markdown",
   "metadata": {},
   "source": [
    "### 统计学：检验心理学现象\n",
    "\n",
    "在下方单元格中回答问题并执行相关代码，你可以 [参考项目指导](https://github.com/udacity/new-dand-advanced-china/blob/master/%E6%A3%80%E9%AA%8C%E5%BF%83%E7%90%86%E5%AD%A6%E7%8E%B0%E8%B1%A1/%E7%BB%9F%E8%AE%A1%E5%AD%A6%EF%BC%9A%E6%A3%80%E9%AA%8C%E5%BF%83%E7%90%86%E5%AD%A6%E7%8E%B0%E8%B1%A1.md) 并在正式提交前查看 [项目要求](https://review.udacity.com/#!/rubrics/305/view)。提交时请将 Jupyter notebook 导出成 HTML 或者 PDF 进行提交（File -> Download As）。\n",
    "\n",
    "背景信息\n",
    "\n",
    "在一个Stroop （斯特鲁普）任务中，参与者得到了一列文字，每个文字都用一种油墨颜色展示。参与者的任务是将文字的打印颜色大声说出来。这项任务有两个条件：一致文字条件，和不一致文字条件。在一致文字条件中，显示的文字是与它们的打印颜色匹配的颜色词，如“红色”、“蓝色”。在不一致文字条件中，显示的文字是与它们的打印颜色不匹配的颜色词，如“紫色”、“橙色”。在每个情况中，我们将计量说出同等大小的列表中的墨色名称的时间。每位参与者必须全部完成并记录每种条件下使用的时间。\n",
    "\n",
    "调查问题\n",
    "\n",
    "作为一般说明，请确保记录你在创建项目时使用或参考的任何资源。作为项目提交的一部分，你将需要报告信息来源。\n",
    "\n",
    "(1) 我们的自变量是什么？因变量是什么？"
   ]
  },
  {
   "cell_type": "markdown",
   "metadata": {},
   "source": [
    "**自变量**：文字条件\n",
    "\n",
    "**因变量**：说出同等大小的列表中的墨色名称的时间。"
   ]
  },
  {
   "cell_type": "markdown",
   "metadata": {},
   "source": [
    "(2) 此任务的适当假设集是什么？你需要以文字和数学符号方式对假设集中的零假设和对立假设加以说明，并对数学符号进行定义。你想执行什么类型的统计检验？为你的选择提供正当理由（比如，为何该实验满足你所选统计检验的前置条件）。"
   ]
  },
  {
   "cell_type": "markdown",
   "metadata": {},
   "source": [
    "**斯特鲁普效应(Stroop effect)在心理学中指优势反应对非优势反应的干扰。例如当测试者被要求回答有颜色意义的字体的颜色时，回答字本身的意义为优势反应，而回答字体颜色为非优势反应，若字体颜色与自意不同，被测者往往会反应速度下降，出错率上升。**"
   ]
  },
  {
   "cell_type": "markdown",
   "metadata": {},
   "source": [
    "$$H_0: MeanTime_{一致文字条件} - MeanTime_{不一致文字条件} = 0 $$\n",
    "\n",
    "$$H_1: MeanTime_{一致文字条件} - MeanTime_{不一致文字条件} ＜ 0 $$\n",
    "\n",
    "$MeanTime_{一致文字条件}$：代表在一致文字条件下，总体反应时间均值。\n",
    "\n",
    "$MeanTime_{不一致文字条件}$：代表在不一致文字条件下，总体反应时间均值。\n",
    "\n",
    "**零假设**：代表了在“一致文字条件”下的总体反应时间均值与在“不一致文字条件下”的总体反应时间均值**相等**。\n",
    "\n",
    "**对立假设**：代表了在“一致文字条件”下的总体反应时间均值**小于**在“不一致文字条件下”的总体反应时间均值。\n",
    "\n",
    "**本次假设检验的目的在于拒绝零假设。**\n",
    "\n",
    "**执行什么类型的统计检验**：双总体配对t检验\n",
    "\n",
    "**理由**：\n",
    "\n",
    "1)配对：该测试是对同一群测试者抽取每个测试者在“一致文字条件”和“不一致文字条件”下对墨色名称的反应时间样本。因为这两个样本来自同一群人，所以它们是相关样本。相关样本是对一组项目进行的配对测量。\n",
    "\n",
    "2)我们的样本量比较小，n=24。\n",
    "\n",
    "3)样本有两个，t检验是用t分布理论来推论差异发生的概率，从而比较两个平均数的差异是否显著\n",
    "\n",
    "4)双总体t检验是检验两个样本平均数与其各自所代表的总体的差异是否显著。"
   ]
  },
  {
   "cell_type": "markdown",
   "metadata": {},
   "source": [
    "现在轮到你自行尝试 Stroop 任务了。前往此链接，其中包含一个基于 Java 的小程序，专门用于执行 Stroop 任务。记录你收到的任务时间（你无需将时间提交到网站）。现在下载此数据集，其中包含一些任务参与者的结果。数据集的每行包含一名参与者的表现，第一个数字代表他们的一致任务结果，第二个数字代表不一致任务结果。\n",
    "\n",
    "(3) 报告关于此数据集的一些描述性统计。包含至少一个集中趋势测量和至少一个变异测量。"
   ]
  },
  {
   "cell_type": "code",
   "execution_count": 3,
   "metadata": {},
   "outputs": [
    {
     "data": {
      "text/html": [
       "<div>\n",
       "<style scoped>\n",
       "    .dataframe tbody tr th:only-of-type {\n",
       "        vertical-align: middle;\n",
       "    }\n",
       "\n",
       "    .dataframe tbody tr th {\n",
       "        vertical-align: top;\n",
       "    }\n",
       "\n",
       "    .dataframe thead th {\n",
       "        text-align: right;\n",
       "    }\n",
       "</style>\n",
       "<table border=\"1\" class=\"dataframe\">\n",
       "  <thead>\n",
       "    <tr style=\"text-align: right;\">\n",
       "      <th></th>\n",
       "      <th>Congruent</th>\n",
       "      <th>Incongruent</th>\n",
       "    </tr>\n",
       "  </thead>\n",
       "  <tbody>\n",
       "    <tr>\n",
       "      <th>count</th>\n",
       "      <td>24.000000</td>\n",
       "      <td>24.000000</td>\n",
       "    </tr>\n",
       "    <tr>\n",
       "      <th>mean</th>\n",
       "      <td>14.051125</td>\n",
       "      <td>22.015917</td>\n",
       "    </tr>\n",
       "    <tr>\n",
       "      <th>std</th>\n",
       "      <td>3.559358</td>\n",
       "      <td>4.797057</td>\n",
       "    </tr>\n",
       "    <tr>\n",
       "      <th>min</th>\n",
       "      <td>8.630000</td>\n",
       "      <td>15.687000</td>\n",
       "    </tr>\n",
       "    <tr>\n",
       "      <th>25%</th>\n",
       "      <td>11.895250</td>\n",
       "      <td>18.716750</td>\n",
       "    </tr>\n",
       "    <tr>\n",
       "      <th>50%</th>\n",
       "      <td>14.356500</td>\n",
       "      <td>21.017500</td>\n",
       "    </tr>\n",
       "    <tr>\n",
       "      <th>75%</th>\n",
       "      <td>16.200750</td>\n",
       "      <td>24.051500</td>\n",
       "    </tr>\n",
       "    <tr>\n",
       "      <th>max</th>\n",
       "      <td>22.328000</td>\n",
       "      <td>35.255000</td>\n",
       "    </tr>\n",
       "  </tbody>\n",
       "</table>\n",
       "</div>"
      ],
      "text/plain": [
       "       Congruent  Incongruent\n",
       "count  24.000000    24.000000\n",
       "mean   14.051125    22.015917\n",
       "std     3.559358     4.797057\n",
       "min     8.630000    15.687000\n",
       "25%    11.895250    18.716750\n",
       "50%    14.356500    21.017500\n",
       "75%    16.200750    24.051500\n",
       "max    22.328000    35.255000"
      ]
     },
     "execution_count": 3,
     "metadata": {},
     "output_type": "execute_result"
    }
   ],
   "source": [
    "# 在这里执行你的分析\n",
    "import pandas as pd\n",
    "df=pd.read_csv(\"stroopdata.csv\")\n",
    "df.describe()"
   ]
  },
  {
   "cell_type": "code",
   "execution_count": 4,
   "metadata": {},
   "outputs": [
    {
     "data": {
      "text/plain": [
       "(24, 2)"
      ]
     },
     "execution_count": 4,
     "metadata": {},
     "output_type": "execute_result"
    }
   ],
   "source": [
    "df.shape"
   ]
  },
  {
   "cell_type": "code",
   "execution_count": 5,
   "metadata": {},
   "outputs": [
    {
     "name": "stdout",
     "output_type": "stream",
     "text": [
      "在“一致文字条件”下的平均反应时间: 14.051125000000004\n",
      "在“一致文字条件”下的标准差 3.559357957645195\n",
      "--------------------------------------------------\n",
      "在“不一致文字条件下”的平均反应时间: 22.01591666666667\n",
      "在“不一致文字条件下”下的标准差: 4.797057122469138\n"
     ]
    }
   ],
   "source": [
    "print(\"在“一致文字条件”下的平均反应时间:\",df.describe()[\"Congruent\"].loc[\"mean\"])\n",
    "print(\"在“一致文字条件”下的标准差\",df.describe()[\"Congruent\"].loc[\"std\"])\n",
    "\n",
    "print(\"-\"*50)\n",
    "\n",
    "print(\"在“不一致文字条件下”的平均反应时间:\",df.describe()[\"Incongruent\"].loc[\"mean\"])\n",
    "print(\"在“不一致文字条件下”下的标准差:\",df.describe()[\"Incongruent\"].loc[\"std\"])"
   ]
  },
  {
   "cell_type": "markdown",
   "metadata": {},
   "source": [
    "(4) 提供显示样本数据分布的一个或两个可视化。用一两句话说明你从图中观察到的结果。"
   ]
  },
  {
   "cell_type": "code",
   "execution_count": 6,
   "metadata": {},
   "outputs": [
    {
     "data": {
      "image/png": "[encoded data removed]",
      "text/plain": [
       "<matplotlib.figure.Figure at 0x1ac24127cf8>"
      ]
     },
     "metadata": {},
     "output_type": "display_data"
    }
   ],
   "source": [
    "%matplotlib inline\n",
    "# 在这里创建可视化图表\n",
    "df[\"Congruent\"].plot(kind=\"hist\",alpha=0.5);\n",
    "df[\"Incongruent\"].plot(kind=\"hist\",alpha=0.5);"
   ]
  },
  {
   "cell_type": "markdown",
   "metadata": {},
   "source": [
    "## 根据上图，在“一致文字条件”下的平均反应时间分布在8.630000 ~ 22.328000，在“不一致文字条件下”的平均反应时间分布在15.687000 ~ 35.255000。"
   ]
  },
  {
   "cell_type": "markdown",
   "metadata": {},
   "source": [
    "(5) 现在，执行统计测试并报告你的结果。你的置信水平和关键统计值是多少？你是否成功拒绝零假设？对试验任务得出一个结论。结果是否与你的期望一致？"
   ]
  },
  {
   "cell_type": "code",
   "execution_count": 7,
   "metadata": {},
   "outputs": [
    {
     "data": {
      "text/plain": [
       "Ttest_relResult(statistic=-8.020706944109957, pvalue=4.103000585711178e-08)"
      ]
     },
     "execution_count": 7,
     "metadata": {},
     "output_type": "execute_result"
    }
   ],
   "source": [
    "# 在这里执行统计检验 \n",
    "import scipy.stats as stats\n",
    "stats.ttest_rel(df[\"Congruent\"],df[\"Incongruent\"])"
   ]
  },
  {
   "attachments": {
    "image.png": {
     "image/png": "[encoded data removed]"
    }
   },
   "cell_type": "markdown",
   "metadata": {},
   "source": [
    "![image.png](attachment:image.png)"
   ]
  },
  {
   "cell_type": "code",
   "execution_count": 24,
   "metadata": {},
   "outputs": [
    {
     "name": "stdout",
     "output_type": "stream",
     "text": [
      "Confidence intervals:95%\n",
      "α level(for one side):5%\n",
      "Degrees of freedoom: 23\n",
      "T statistics: -8.020706944109955\n",
      "T critical(As per T-table): 1.714\n",
      "One tail P value is much less than 0.00005,therefore P value < α\n"
     ]
    }
   ],
   "source": [
    "import numpy as np\n",
    "\n",
    "#1. Calculate the difference (di = yi − xi)  and  Calculate the standard deviation of the differences\n",
    "std=(df[\"Incongruent\"]-df[\"Congruent\"]).std()\n",
    "\n",
    "# 2. Calculate the mean difference, ¯d.\n",
    "mean_diff=df[\"Congruent\"].mean()-df[\"Incongruent\"].mean()\n",
    "\n",
    "# 3.calculate the standard error of the mean difference\n",
    "n=df.shape[0]\n",
    "std_e=std/np.sqrt(n)\n",
    "\n",
    "# 4.Calculate the t-statistic\n",
    "t_statistic=mean_diff/(std_e)\n",
    "\n",
    "# 5.Use tables of the t-distribution to compare your value for T to the tn−1 distribution.\n",
    "t_critical=1.714\n",
    "\n",
    "print(\"Confidence intervals:95%\")\n",
    "print(\"α level(for one side):5%\")\n",
    "print(\"Degrees of freedoom:\",23)\n",
    "print(\"T statistics:\",t_statistic)\n",
    "print(\"T critical(As per T-table):\",t_critical)\n",
    "print(\"One tail P value is much less than 0.00005,therefore P value < α\")\n",
    "print(\"In this case,the difference is considered to be extremely statistically significant,we will reject null hypothesis.\")"
   ]
  },
  {
   "cell_type": "markdown",
   "metadata": {},
   "source": [
    "## 结论：在这个案例中，我们的期望是和「斯特鲁普效应」中得出的部分结果一致 - “若字体颜色与自意不同，被测者往往会反应速度下降”。\n",
    "## 根据我们得出的结果，\"Congruent\"下，总体反应时间均值和\"Incongruent\"下，总体反应时间均值的差异被认为是极其显著的，因此我们拒绝零假设，接受备择假设 - 也就是“在\"一致文字条件\"下的总体反应时间均值小于在\"不一致文字条件下\"的总体反应时间均值。”，这与我们的期望一致。"
   ]
  }
 ],
 "metadata": {
  "anaconda-cloud": {},
  "kernelspec": {
   "display_name": "Python 3",
   "language": "python",
   "name": "python3"
  },
  "language_info": {
   "codemirror_mode": {
    "name": "ipython",
    "version": 3
   },
   "file_extension": ".py",
   "mimetype": "text/x-python",
   "name": "python",
   "nbconvert_exporter": "python",
   "pygments_lexer": "ipython3",
   "version": "3.6.4"
  }
 },
 "nbformat": 4,
 "nbformat_minor": 2
}
